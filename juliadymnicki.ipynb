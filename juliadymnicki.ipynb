{
 "cells": [
  {
   "cell_type": "code",
   "execution_count": 19,
   "metadata": {},
   "outputs": [],
   "source": [
    "#import libraries\n",
    "import pandas as pd\n",
    "import numpy as np\n",
    "import seaborn as sns\n",
    "import matplotlib.pyplot as plt\n",
    "import nltk as nlp\n",
    "import re\n",
    "import unicodedata\n",
    "import string\n",
    "from sklearn.model_selection import train_test_split\n",
    "from sklearn.metrics import accuracy_score\n",
    "from sklearn.metrics import classification_report\n",
    "from sklearn.metrics import confusion_matrix, ConfusionMatrixDisplay\n"
   ]
  },
  {
   "cell_type": "code",
   "execution_count": 20,
   "metadata": {},
   "outputs": [
    {
     "data": {
      "text/html": [
       "<div>\n",
       "<style scoped>\n",
       "    .dataframe tbody tr th:only-of-type {\n",
       "        vertical-align: middle;\n",
       "    }\n",
       "\n",
       "    .dataframe tbody tr th {\n",
       "        vertical-align: top;\n",
       "    }\n",
       "\n",
       "    .dataframe thead th {\n",
       "        text-align: right;\n",
       "    }\n",
       "</style>\n",
       "<table border=\"1\" class=\"dataframe\">\n",
       "  <thead>\n",
       "    <tr style=\"text-align: right;\">\n",
       "      <th></th>\n",
       "      <th>title</th>\n",
       "      <th>text</th>\n",
       "      <th>subject</th>\n",
       "      <th>date</th>\n",
       "    </tr>\n",
       "  </thead>\n",
       "  <tbody>\n",
       "    <tr>\n",
       "      <th>0</th>\n",
       "      <td>As U.S. budget fight looms, Republicans flip t...</td>\n",
       "      <td>WASHINGTON (Reuters) - The head of a conservat...</td>\n",
       "      <td>politicsNews</td>\n",
       "      <td>December 31, 2017</td>\n",
       "    </tr>\n",
       "    <tr>\n",
       "      <th>1</th>\n",
       "      <td>U.S. military to accept transgender recruits o...</td>\n",
       "      <td>WASHINGTON (Reuters) - Transgender people will...</td>\n",
       "      <td>politicsNews</td>\n",
       "      <td>December 29, 2017</td>\n",
       "    </tr>\n",
       "    <tr>\n",
       "      <th>2</th>\n",
       "      <td>Senior U.S. Republican senator: 'Let Mr. Muell...</td>\n",
       "      <td>WASHINGTON (Reuters) - The special counsel inv...</td>\n",
       "      <td>politicsNews</td>\n",
       "      <td>December 31, 2017</td>\n",
       "    </tr>\n",
       "    <tr>\n",
       "      <th>3</th>\n",
       "      <td>FBI Russia probe helped by Australian diplomat...</td>\n",
       "      <td>WASHINGTON (Reuters) - Trump campaign adviser ...</td>\n",
       "      <td>politicsNews</td>\n",
       "      <td>December 30, 2017</td>\n",
       "    </tr>\n",
       "    <tr>\n",
       "      <th>4</th>\n",
       "      <td>Trump wants Postal Service to charge 'much mor...</td>\n",
       "      <td>SEATTLE/WASHINGTON (Reuters) - President Donal...</td>\n",
       "      <td>politicsNews</td>\n",
       "      <td>December 29, 2017</td>\n",
       "    </tr>\n",
       "  </tbody>\n",
       "</table>\n",
       "</div>"
      ],
      "text/plain": [
       "                                               title  \\\n",
       "0  As U.S. budget fight looms, Republicans flip t...   \n",
       "1  U.S. military to accept transgender recruits o...   \n",
       "2  Senior U.S. Republican senator: 'Let Mr. Muell...   \n",
       "3  FBI Russia probe helped by Australian diplomat...   \n",
       "4  Trump wants Postal Service to charge 'much mor...   \n",
       "\n",
       "                                                text       subject  \\\n",
       "0  WASHINGTON (Reuters) - The head of a conservat...  politicsNews   \n",
       "1  WASHINGTON (Reuters) - Transgender people will...  politicsNews   \n",
       "2  WASHINGTON (Reuters) - The special counsel inv...  politicsNews   \n",
       "3  WASHINGTON (Reuters) - Trump campaign adviser ...  politicsNews   \n",
       "4  SEATTLE/WASHINGTON (Reuters) - President Donal...  politicsNews   \n",
       "\n",
       "                 date  \n",
       "0  December 31, 2017   \n",
       "1  December 29, 2017   \n",
       "2  December 31, 2017   \n",
       "3  December 30, 2017   \n",
       "4  December 29, 2017   "
      ]
     },
     "execution_count": 20,
     "metadata": {},
     "output_type": "execute_result"
    }
   ],
   "source": [
    "df_fake = pd.read_csv(\"Fake.csv\")\n",
    "df_true = pd.read_csv(\"True.csv\")\n",
    "df_fake.head()\n",
    "df_true.head()\n",
    "#As seen by the format of these files, each row has a title of the article, text from the article, a subject, and a date. We will filter out everything but the title in order to train our model."
   ]
  },
  {
   "cell_type": "code",
   "execution_count": 21,
   "metadata": {},
   "outputs": [],
   "source": [
    "#Here we drop the columns of the dataset which are not important to us, and combine the datasets.\n",
    "df_true[\"text\"] = df_true[\"text\"].replace(\"(Reuters)\",\"\",regex=True)\n",
    "df_fake[\"target\"] = 0\n",
    "df_true[\"target\"] = 1\n",
    "df_fake = df_fake.drop([\"title\",\"subject\",\"date\"],axis = 1)\n",
    "df_true = df_true.drop([\"title\",\"subject\",\"date\"],axis = 1)\n",
    "df = pd.concat([df_fake,df_true],axis = 0)\n",
    "#shuffling the dataframe so that the model does not catch patterns which are incorrect.\n",
    "df = df.sample(frac=1)\n",
    "df.reset_index(inplace=True)\n",
    "df.drop([\"index\"], axis = 1, inplace = True)"
   ]
  },
  {
   "cell_type": "code",
   "execution_count": 23,
   "metadata": {},
   "outputs": [],
   "source": [
    "#processing the text and normalizing it\n",
    "def wordopt(text):\n",
    "    text = text.lower()\n",
    "    text = re.sub(r'\\[.*?\\]', '', text)\n",
    "    text = re.sub(\"\\\\W\",\" \",text) \n",
    "    text = re.sub(r'https?://\\S+|www\\.\\S+', '', text)\n",
    "    text = re.sub('<.*?>+', '', text)\n",
    "    text = re.sub('[%s]' % re.escape(string.punctuation), '', text)\n",
    "    text = re.sub('\\n', '', text)\n",
    "    text = re.sub(r'\\w*\\d\\w*', '', text)\n",
    "    text = unicodedata.normalize('NFKD', text).encode('ASCII', 'ignore').decode('utf-8')\n",
    "    return text\n"
   ]
  },
  {
   "cell_type": "code",
   "execution_count": 24,
   "metadata": {},
   "outputs": [
    {
     "data": {
      "image/png": "[encoded data removed]",
      "text/plain": [
       "<Figure size 600x400 with 1 Axes>"
      ]
     },
     "metadata": {},
     "output_type": "display_data"
    }
   ],
   "source": [
    "df[\"text\"] = df[\"text\"].apply(wordopt)\n",
    "#class distribution of fake vs real news\n",
    "plt.figure(figsize=(6, 4))\n",
    "sns.countplot(x='target', data=df)\n",
    "plt.title('Real vs Fake News Count')\n",
    "plt.xticks([0, 1], ['Fake', 'Real'])\n",
    "plt.xlabel('News Type')\n",
    "plt.ylabel('Count')\n",
    "plt.show()"
   ]
  },
  {
   "cell_type": "code",
   "execution_count": 25,
   "metadata": {},
   "outputs": [],
   "source": [
    "#Analysis of news type csv files: There is a much larger amount of fake news headlines to real news headlines. This could create conflicts with our model as it is being trained on datasets with many more fake news headlines to real news headlines."
   ]
  },
  {
   "cell_type": "code",
   "execution_count": 26,
   "metadata": {},
   "outputs": [
    {
     "name": "stdout",
     "output_type": "stream",
     "text": [
      "The Accuracy of the Logistic Regression Model is 0.977728285077951\n",
      "              precision    recall  f1-score   support\n",
      "\n",
      "           0       0.98      0.97      0.98      8118\n",
      "           1       0.97      0.98      0.98      7597\n",
      "\n",
      "    accuracy                           0.98     15715\n",
      "   macro avg       0.98      0.98      0.98     15715\n",
      "weighted avg       0.98      0.98      0.98     15715\n",
      "\n"
     ]
    }
   ],
   "source": [
    "#splitting datasets into training\n",
    "X = df[\"text\"]\n",
    "Y = df[\"target\"]\n",
    "X_train,x_test,Y_train,y_test = train_test_split(X,Y,test_size=0.35)\n",
    "\n",
    "#Converting text to vectors using TF-IDF\n",
    "from sklearn.feature_extraction.text import TfidfVectorizer\n",
    "vectorization = TfidfVectorizer()\n",
    "analyze = vectorization.build_analyzer()\n",
    "xv_train = vectorization.fit_transform(X_train)\n",
    "xv_test = vectorization.transform(x_test)\n",
    "\n",
    "#Building logistic regression model\n",
    "from sklearn.linear_model import LogisticRegression\n",
    "lr = LogisticRegression()\n",
    "lr.fit(xv_train,Y_train)\n",
    "print(\"The Accuracy of the Logistic Regression Model is {}\".format(lr.score(xv_test,y_test)))\n",
    "print(classification_report(y_test,lr.predict(xv_test)))"
   ]
  },
  {
   "cell_type": "code",
   "execution_count": 27,
   "metadata": {},
   "outputs": [
    {
     "name": "stdout",
     "output_type": "stream",
     "text": [
      "The Accuracy of the Decision Tree Classifier Model is 0.9468024180719058\n",
      "              precision    recall  f1-score   support\n",
      "\n",
      "           0       0.94      0.96      0.95      8118\n",
      "           1       0.96      0.93      0.94      7597\n",
      "\n",
      "    accuracy                           0.95     15715\n",
      "   macro avg       0.95      0.95      0.95     15715\n",
      "weighted avg       0.95      0.95      0.95     15715\n",
      "\n"
     ]
    }
   ],
   "source": [
    "from sklearn.tree import DecisionTreeClassifier\n",
    "dtc = DecisionTreeClassifier()\n",
    "dtc.fit(xv_train,Y_train)\n",
    "print(\"The Accuracy of the Decision Tree Classifier Model is {}\".format(dtc.score(xv_test,y_test)))\n",
    "print(classification_report(y_test,dtc.predict(xv_test)))\n",
    "\n",
    "#The logistic regression model has a much better accuracy rate than the Decision tree model. We will use the logistic regression model over the decision tree classifier model."
   ]
  },
  {
   "cell_type": "code",
   "execution_count": 28,
   "metadata": {},
   "outputs": [
    {
     "name": "stdout",
     "output_type": "stream",
     "text": [
      "The Accuracy of the Gradient Boosting Classifier Model is 0.967674196627426\n",
      "              precision    recall  f1-score   support\n",
      "\n",
      "           0       0.97      0.96      0.97      8118\n",
      "           1       0.96      0.97      0.97      7597\n",
      "\n",
      "    accuracy                           0.97     15715\n",
      "   macro avg       0.97      0.97      0.97     15715\n",
      "weighted avg       0.97      0.97      0.97     15715\n",
      "\n"
     ]
    }
   ],
   "source": [
    "from sklearn.ensemble import GradientBoostingClassifier\n",
    "gclf = GradientBoostingClassifier()\n",
    "gclf.fit(xv_train,Y_train)\n",
    "print(\"The Accuracy of the Gradient Boosting Classifier Model is {}\".format(gclf.score(xv_test,y_test)))\n",
    "print(classification_report(y_test,gclf.predict(xv_test)))"
   ]
  },
  {
   "cell_type": "code",
   "execution_count": 29,
   "metadata": {},
   "outputs": [
    {
     "name": "stdout",
     "output_type": "stream",
     "text": [
      "The Accuracy of the Random Forest Classifier Model is 0.9776646516067451\n",
      "              precision    recall  f1-score   support\n",
      "\n",
      "           0       0.98      0.98      0.98      8118\n",
      "           1       0.98      0.98      0.98      7597\n",
      "\n",
      "    accuracy                           0.98     15715\n",
      "   macro avg       0.98      0.98      0.98     15715\n",
      "weighted avg       0.98      0.98      0.98     15715\n",
      "\n"
     ]
    }
   ],
   "source": [
    "from sklearn.ensemble import RandomForestClassifier\n",
    "rclf = RandomForestClassifier()\n",
    "rclf.fit(xv_train,Y_train)\n",
    "print(\"The Accuracy of the Random Forest Classifier Model is {}\".format(rclf.score(xv_test,y_test)))\n",
    "print(classification_report(y_test,rclf.predict(xv_test)))\n",
    "\n",
    "#after looking at each model, we can see that the model with the best accuracy is the Logistic Regression Model. We should use this one in testing real vs fake news headlines."
   ]
  },
  {
   "cell_type": "code",
   "execution_count": 44,
   "metadata": {},
   "outputs": [],
   "source": [
    "def output_lable(n):\n",
    "    if n == 0:\n",
    "        return \"Fake News\"\n",
    "    elif n == 1:\n",
    "        return \"Not Fake News\"\n",
    "    \n",
    "def manual_testing(news):\n",
    "    testing_news = {\"text\":[news]}\n",
    "    new_def_test = pd.DataFrame(testing_news)\n",
    "    new_def_test[\"text\"] = new_def_test[\"text\"].apply(wordopt) \n",
    "    new_x_test = new_def_test[\"text\"]\n",
    "    new_xv_test = vectorization.transform(new_x_test)\n",
    "    pred_LR = lr.predict(new_xv_test)\n",
    "    pred_DT = dtc.predict(new_xv_test)\n",
    "    pred_GBC = gclf.predict(new_xv_test)\n",
    "    pred_RFC = rclf.predict(new_xv_test)\n",
    "\n",
    "    return print(\"\\n\\nLR Prediction: {} \\nDT Prediction: {} \\nGBC Prediction: {} \\nRFC Prediction: {}\".format(output_lable(pred_LR[0]),                                                                                                       output_lable(pred_DT[0]), \n",
    "                                                                                                              output_lable(pred_GBC[0]), \n",
    "                                                                                                              output_lable(pred_RFC[0])))"
   ]
  },
  {
   "cell_type": "code",
   "execution_count": 45,
   "metadata": {},
   "outputs": [
    {
     "name": "stdout",
     "output_type": "stream",
     "text": [
      "\n",
      "\n",
      "LR Prediction: Not Fake News \n",
      "DT Prediction: Not Fake News \n",
      "GBC Prediction: Fake News \n",
      "RFC Prediction: Not Fake News\n",
      "\n",
      "\n",
      "LR Prediction: Fake News \n",
      "DT Prediction: Fake News \n",
      "GBC Prediction: Fake News \n",
      "RFC Prediction: Fake News\n",
      "\n",
      "\n",
      "LR Prediction: Not Fake News \n",
      "DT Prediction: Not Fake News \n",
      "GBC Prediction: Not Fake News \n",
      "RFC Prediction: Not Fake News\n"
     ]
    }
   ],
   "source": [
    "test_cases = [\n",
    "    #1: real \n",
    "    \"SAO PAULO (Reuters) - Cesar Mata Pires, the owner and co-founder of Brazilian engineering conglomerate OAS SA, one of the largest companies involved in Brazil s corruption scandal, died on Tuesday. He was 68. Mata Pires died of a heart attack while taking a morning walk in an upscale district of S o Paulo, where OAS is based, a person with direct knowledge of the matter said. Efforts to contact his family were unsuccessful. OAS declined to comment. The son of a wealthy cattle rancher in the northeastern state of Bahia, Mata Pires  links to politicians were central to the expansion of OAS, which became Brazil s No. 4 builder earlier this decade, people familiar with his career told Reuters last year. His big break came when he befriended Antonio Carlos Magalh es, a popular politician who was Bahia governor several times, and eventually married his daughter Tereza. Brazilians joked that OAS stood for  Obras Arranjadas pelo Sogro  - or  Work Arranged by the Father-In-Law.   After years of steady growth triggered by a flurry of massive government contracts, OAS was ensnared in Operation Car Wash which unearthed an illegal contracting ring between state firms and builders. The ensuing scandal helped topple former Brazilian President Dilma Rousseff last year. Trained as an engineer, Mata Pires founded OAS with two colleagues in 1976 to do sub-contracting work for larger rival Odebrecht SA - the biggest of the builders involved in the probe.  Before the scandal, Forbes magazine estimated Mata Pires  fortune at $1.6 billion. He dropped off the magazine s billionaire list in 2015, months after OAS sought bankruptcy protection after the Car Wash scandal. While Mata Pires was never accused of wrongdoing in the investigations, creditors demanded he and his family stay away from the builder s day-to-day operations, people directly involved in the negotiations told Reuters at the time. He is survived by his wife and his two sons. \",\n",
    "    #2: fake\n",
    "    \"Vic Bishop Waking TimesOur reality is carefully constructed by powerful corporate, political and special interest sources in order to covertly sway public opinion. Blatant lies are often televised regarding terrorism, food, war, health, etc. They are fashioned to sway public opinion and condition viewers to accept what have become destructive societal norms.The practice of manipulating and controlling public opinion with distorted media messages has become so common that there is a whole industry formed around this. The entire role of this brainwashing industry is to figure out how to spin information to journalists, similar to the lobbying of government. It is never really clear just how much truth the journalists receive because the news industry has become complacent. The messages that it presents are shaped by corporate powers who often spend millions on advertising with the six conglomerates that own 90% of the media:General Electric (GE), News-Corp, Disney, Viacom, Time Warner, and CBS. Yet, these corporations function under many different brands, such as FOX, ABC, CNN, Comcast, Wall Street Journal, etc, giving people the perception of choice   As Tavistock s researchers showed, it was important that the victims of mass brainwashing not be aware that their environment was being controlled; there should thus be a vast number of sources for information, whose messages could be varied slightly, so as to mask the sense of external control. ~ Specialist of mass brainwashing, L. WolfeNew Brainwashing Tactic Called AstroturfWith alternative media on the rise, the propaganda machine continues to expand. Below is a video of Sharyl Attkisson, investigative reporter with CBS, during which she explains how  astroturf,  or fake grassroots movements, are used to spin information not only to influence journalists but to sway public opinion. Astroturf is a perversion of grassroots. Astroturf is when political, corporate or other special interests disguise themselves and publish blogs, start facebook and twitter accounts, publish ads, letters to the editor, or simply post comments online, to try to fool you into thinking an independent or grassroots movement is speaking. ~ Sharyl Attkisson, Investigative ReporterHow do you separate fact from fiction? Sharyl Attkisson finishes her talk with some insights on how to identify signs of propaganda and astroturfing  These methods are used to give people the impression that there is widespread support for an agenda, when, in reality, one may not exist. Astroturf tactics are also used to discredit or criticize those that disagree with certain agendas, using stereotypical names such as conspiracy theorist or quack. When in fact when someone dares to reveal the truth or questions the  official  story, it should spark a deeper curiosity and encourage further scrutiny of the information.This article (Journalist Reveals Tactics Brainwashing Industry Uses to Manipulate the Public) was originally created and published by Waking Times and is published here under a Creative Commons license with attribution to Vic Bishop and WakingTimes.com. It may be re-posted freely with proper attribution, author bio, and this copyright statement. READ MORE MSM PROPAGANDA NEWS AT: 21st Century Wire MSM Watch Files\",\n",
    "    #3: real\n",
    "    \"BRUSSELS (Reuters) - NATO allies on Tuesday welcomed President Donald Trump s decision to commit more forces to Afghanistan, as part of a new U.S. strategy he said would require more troops and funding from America s partners. Having run for the White House last year on a pledge to withdraw swiftly from Afghanistan, Trump reversed course on Monday and promised a stepped-up military campaign against  Taliban insurgents, saying:  Our troops will fight to win .  U.S. officials said he had signed off on plans to send about 4,000 more U.S. troops to add to the roughly 8,400 now deployed in Afghanistan. But his speech did not define benchmarks for successfully ending the war that began with the U.S.-led invasion of Afghanistan in 2001, and which he acknowledged had required an   extraordinary sacrifice of blood and treasure .  We will ask our NATO allies and global partners to support our new strategy, with additional troops and funding increases in line with our own. We are confident they will,  Trump said. That comment signaled he would further increase pressure on U.S. partners who have already been jolted by his repeated demands to step up their contributions to NATO and his description of the alliance as  obsolete  - even though, since taking office, he has said this is no longer the case. NATO Secretary General Jens Stoltenberg said in a statement:  NATO remains fully committed to Afghanistan and I am looking forward to discussing the way ahead with (Defense) Secretary (James) Mattis and our Allies and international partners.  NATO has 12,000 troops in Afghanistan, and 15 countries have pledged more, Stoltenberg said. Britain, a leading NATO member, called the U.S. commitment  very welcome .  In my call with Secretary Mattis yesterday we agreed that despite the challenges, we have to stay the course in Afghanistan to help build up its fragile democracy and reduce the terrorist threat to the West,  Defence Secretary Michael Fallon said. Germany, which has borne the brunt of Trump s criticism over  the scale of its defense spending, also welcomed the new U.S. plan.  Our continued commitment is necessary on the path to stabilizing the country,  a government spokeswoman said. In June, European allies had already pledged more troops but had not given details on numbers, waiting for the Trump administration to outline its strategy for the region.Nearly 16 years after the U.S.-led invasion - a response to the Sept. 11 attacks which were planned by al Qaeda leader Osama bin Laden from Afghanistan - the country is still struggling with weak central government and a Taliban insurgency. Trump said he shared the frustration of the American people who were  weary of war without victory , but a hasty withdrawal would create a vacuum for groups like Islamic State and al Qaeda to fill.\"\n",
    "]\n",
    "\n",
    "for article in test_cases:\n",
    "    manual_testing(article)\n"
   ]
  },
  {
   "cell_type": "code",
   "execution_count": 59,
   "metadata": {},
   "outputs": [
    {
     "name": "stdout",
     "output_type": "stream",
     "text": [
      "\n",
      "Scraping 10 CNN articles...\n",
      "\n",
      " ARTICLE LINK: https://www.cnn.com/2025/05/05/science/uturuncu-zombie-volcano-erupt\n",
      " - Logistic Regression: Fake News\n",
      " - Decision Tree:       Not Fake News\n",
      " - Gradient Boosting:   Not Fake News\n",
      " - Random Forest:       Fake News\n",
      " ARTICLE LINK: https://www.cnn.com/2025/04/22/world/pope-francis-successor-frontrunners-intl-dg\n",
      " - Logistic Regression: Fake News\n",
      " - Decision Tree:       Not Fake News\n",
      " - Gradient Boosting:   Fake News\n",
      " - Random Forest:       Not Fake News\n"
     ]
    }
   ],
   "source": [
    "#Scrape article URLs from CNN front page\n",
    "def get_article_links(base_url=\"https://www.cnn.com\"):\n",
    "    response = requests.get(base_url)\n",
    "    soup = BeautifulSoup(response.content, 'html.parser')\n",
    "    links = []\n",
    "\n",
    "    for a_tag in soup.find_all('a', href=True):\n",
    "        href = a_tag['href']\n",
    "        full_link = \"https://www.cnn.com\" + href\n",
    "        if full_link not in links:\n",
    "            links.append(full_link)\n",
    "    \n",
    "    return list(set(links))[:10]  # Limit to 10 articles for testing\n",
    "\n",
    "#Scrape article text from a CNN article page\n",
    "def get_article_text(article_url):\n",
    "    try:\n",
    "        response = requests.get(article_url)\n",
    "        soup = BeautifulSoup(response.content, 'html.parser')\n",
    "        paragraphs = soup.find_all('p')\n",
    "        article_text = \" \".join([p.get_text() for p in paragraphs])\n",
    "        return article_text\n",
    "    except:\n",
    "        return \"\"\n",
    "\n",
    "# Classify articles \n",
    "def classify_scraped_articles():\n",
    "    article_links = get_article_links()\n",
    "    print(f\"\\nScraping {len(article_links)} CNN articles...\\n\")\n",
    "\n",
    "    article_texts = []\n",
    "    valid_links = []\n",
    "\n",
    "    for link in article_links:\n",
    "        text = get_article_text(link)\n",
    "        if len(text.split()) > 50:  # Only classify if article has enough content\n",
    "            article_texts.append(text)\n",
    "            valid_links.append(link)\n",
    "\n",
    "    processed = [wordopt(t) for t in article_texts]\n",
    "    df_test = pd.DataFrame({'text': processed})\n",
    "    transformed = vectorization.transform(df_test[\"text\"])\n",
    "\n",
    "    preds_lr = lr.predict(transformed)\n",
    "    preds_dt = dtc.predict(transformed)\n",
    "    preds_gbc = gclf.predict(transformed)\n",
    "    preds_rfc = rclf.predict(transformed)\n",
    "\n",
    "    for i in range(len(valid_links)):\n",
    "        print(f\" Article Link: {valid_links[i]}\")\n",
    "        print(f\"Logistic Regression: {output_lable(preds_lr[i])}\")\n",
    "        print(f\"Decision Tree:       {output_lable(preds_dt[i])}\")\n",
    "        print(f\"Gradient Boosting:   {output_lable(preds_gbc[i])}\")\n",
    "        print(f\"Random Forest:       {output_lable(preds_rfc[i])}\")\n",
    "classify_scraped_articles()"
   ]
  },
  {
   "cell_type": "code",
   "execution_count": null,
   "metadata": {},
   "outputs": [],
   "source": [
    "#distribution of text lengths by class (real vs fake)\n",
    "df['text_length'] = df['text'].apply(len)\n",
    "plt.figure(figsize=(10, 5))\n",
    "sns.histplot(data=df, x='text_length', hue='target', bins=50, kde=True)\n",
    "plt.title('Distribution of Text Lengths by Class')\n",
    "plt.xlabel('Text Length')\n",
    "plt.ylabel('Count')\n",
    "plt.legend(['Fake', 'Real'])\n",
    "plt.show()\n",
    "\n",
    "from wordcloud import WordCloud\n",
    "\n",
    "# Combine all words by class\n",
    "real_words = ' '.join(df[df['target'] == 1]['text'])\n",
    "fake_words = ' '.join(df[df['target'] == 0]['text'])\n",
    "\n",
    "# WordClouds\n",
    "wordcloud_real = WordCloud(width=800, height=400, background_color='white').generate(real_words)\n",
    "wordcloud_fake = WordCloud(width=800, height=400, background_color='black', colormap='Set2').generate(fake_words)\n",
    "\n",
    "plt.figure(figsize=(16, 8))\n",
    "\n",
    "plt.subplot(1, 2, 1)\n",
    "plt.imshow(wordcloud_real, interpolation='bilinear')\n",
    "plt.title('Real News WordCloud')\n",
    "plt.axis('off')\n",
    "\n",
    "plt.subplot(1, 2, 2)\n",
    "plt.imshow(wordcloud_fake, interpolation='bilinear')\n",
    "plt.title('Fake News WordCloud')\n",
    "plt.axis('off')\n",
    "\n",
    "plt.tight_layout()\n",
    "plt.show()\n",
    "\n",
    "#Top N words by frequency\n",
    "from sklearn.feature_extraction.text import CountVectorizer\n",
    "\n",
    "def get_top_n_words(corpus, n=None):\n",
    "    vec = CountVectorizer(stop_words='english').fit(corpus)\n",
    "    bag_of_words = vec.transform(corpus)\n",
    "    sum_words = bag_of_words.sum(axis=0)\n",
    "    words_freq = [(word, sum_words[0, idx]) for word, idx in vec.vocabulary_.items()]\n",
    "    return sorted(words_freq, key=lambda x: x[1], reverse=True)[:n]\n",
    "\n",
    "top_words = get_top_n_words(df['text'], 15)\n",
    "top_df = pd.DataFrame(top_words, columns=['Word', 'Frequency'])\n",
    "\n",
    "plt.figure(figsize=(10, 6))\n",
    "sns.barplot(x='Frequency', y='Word', data=top_df)\n",
    "plt.title('Top 15 Most Frequent Words')\n",
    "plt.show()"
   ]
  },
  {
   "cell_type": "code",
   "execution_count": 34,
   "metadata": {},
   "outputs": [
    {
     "name": "stdout",
     "output_type": "stream",
     "text": [
      "\n",
      "Prediction: Fake News\n",
      "Probability it's real: 0.3252\n",
      "Probability it's fake: 0.6748\n",
      "\n",
      "Top words indicating REAL news:\n",
      "via: -9.2078\n",
      "us: -7.0163\n",
      "this: -6.8242\n",
      "that: -5.2072\n",
      "mr: -5.0396\n",
      "com: -4.8488\n",
      "read: -4.8246\n",
      "just: -4.6745\n",
      "image: -4.5829\n",
      "gop: -4.4867\n",
      "\n",
      "Top words indicating FAKE news:\n",
      "said: 20.0807\n",
      "on: 10.9687\n",
      "washington: 7.4959\n",
      "in: 5.5355\n",
      "republican: 5.0384\n",
      "wednesday: 5.0322\n",
      "told: 4.9388\n",
      "thursday: 4.7515\n",
      "tuesday: 4.6041\n",
      "ly: 4.5905\n"
     ]
    },
    {
     "data": {
      "image/png": "[encoded data removed]",
      "text/plain": [
       "<Figure size 640x480 with 2 Axes>"
      ]
     },
     "metadata": {},
     "output_type": "display_data"
    },
    {
     "name": "stdout",
     "output_type": "stream",
     "text": [
      "\n",
      "--- False Negatives (Real predicted as Fake) ---\n",
      "\n",
      "longview  texas      looking for a way to help relieve stress in a heated political season  a texas golf course owner has given patrons the chance to whack their balls at large posters of the leading presidential candidates affixed to hay bales  in the republican stronghold of longview  where alpine target golf center is located about  miles east of dallas  democrat hillary clinton has been the overwhelming target for patrons  golf balls   hillary clinton is taking it a lot on the chin   owner m\n",
      "------------------------------------------------------------\n",
      "\n",
      "stockholm      some listeners to commercial radio station mix megapol in sweden heard  minutes of an islamic state propaganda song on friday after hackers took over the station s frequency  the station s owners said  mix megapol is one of sweden s biggest radio stations with around   million listeners daily  although the problem affected only listeners in the southern swedish city of malmo   somebody interfered with our frequency using a pirate transmitter   jakob gravestam  marketing director a\n",
      "------------------------------------------------------------\n",
      "\n",
      "sydney      the   year old remains of an aboriginal man that prompted a drastic rewrite of australian history were returned to his ancestral homeland on friday after four decades of examination in the country s capital  the discovery of  mungo man  in   named after the dry outback lakebed where the fully intact skeleton was found  doubled the known length of humans  presence on the continent from   to   years  but the bones  removal to canberra for study  roughly  km   miles  east of lake mungo \n",
      "------------------------------------------------------------\n",
      "\n",
      "--- False Positives (Fake predicted as Real) ---\n",
      "\n",
      "apparently it takes just one american student to destroy the unity in north korea north korea has detained a u s  university student  the third western citizen known to be held in the isolated state  for committing a  hostile act  and wanting to  destroy the country s unity   it said on friday and was detained at pyongyang airport on jan   ahead of a flight back to china  said gareth johnson of young pioneer tours  which organized the visit according to the north s official kcna news agency  war\n",
      "------------------------------------------------------------\n",
      "\n",
      "on friday  democrats were doing their best to push a rumor that president trump is about to fire special counsel robert mueller before christmas  according to the hill   rep  jackie speier  d ca   a member of the house intelligence committee  said friday that  rumors  on capitol hill suggest president trump could fire special counsel robert mueller before christmas  after congress leaves washington for the winter recess  the rumor on the hill when i left yesterday was that the president was goin\n",
      "------------------------------------------------------------\n",
      "\n",
      "president barack obama has called the fight against human trafficking  one of the great human rights causes of our time  and has pledged the united states  will continue to lead it  if obama really believed that human trafficking was such an important cause  then why would his state department be working so hard to hide the truth about these horrific human rights violators  in the weeks leading up to a critical annual u s  report on human trafficking that publicly shames the world s worst offend\n",
      "------------------------------------------------------------\n"
     ]
    }
   ],
   "source": [
    "# Diagnostic script for Fake News Detection\n",
    "# 1. CONFIDENCE SCORES\n",
    "def show_prediction_confidence(news):\n",
    "    processed_text = wordopt(news)\n",
    "    transformed_text = vectorization.transform([processed_text])\n",
    "    probs = lr.predict_proba(transformed_text)\n",
    "    print(f\"\\nPrediction: {output_lable(lr.predict(transformed_text)[0])}\")\n",
    "    print(f\"Probability it's real: {probs[0][1]:.4f}\")\n",
    "    print(f\"Probability it's fake: {probs[0][0]:.4f}\")\n",
    "\n",
    "# 2. FEATURE IMPORTANCE\n",
    "def print_top_features():\n",
    "    feature_names = vectorization.get_feature_names_out()\n",
    "    coefficients = lr.coef_[0]\n",
    "    top_fake_idx = np.argsort(coefficients)[-10:]\n",
    "    top_real_idx = np.argsort(coefficients)[:10]\n",
    "\n",
    "    print(\"\\nTop words indicating REAL news:\")\n",
    "    for i in top_real_idx:\n",
    "        print(f\"{feature_names[i]}: {coefficients[i]:.4f}\")\n",
    "\n",
    "    print(\"\\nTop words indicating FAKE news:\")\n",
    "    for i in reversed(top_fake_idx):\n",
    "        print(f\"{feature_names[i]}: {coefficients[i]:.4f}\")\n",
    "\n",
    "# 3. CONFUSION MATRIX\n",
    "def plot_confusion_matrix():\n",
    "    y_pred = lr.predict(xv_test)\n",
    "    cm = confusion_matrix(y_test, y_pred)\n",
    "    disp = ConfusionMatrixDisplay(confusion_matrix=cm, display_labels=[\"Fake\", \"Real\"])\n",
    "    disp.plot(cmap=\"Blues\")\n",
    "    plt.title(\"Confusion Matrix - Logistic Regression\")\n",
    "    plt.show()\n",
    "\n",
    "# 4. MISCLASSIFIED EXAMPLES\n",
    "def show_misclassified_examples():\n",
    "    y_pred = lr.predict(xv_test)\n",
    "    false_negatives = x_test[(y_test == 1) & (y_pred == 0)]  # Real predicted as Fake\n",
    "    false_positives = x_test[(y_test == 0) & (y_pred == 1)]  # Fake predicted as Real\n",
    "\n",
    "    print(\"\\n--- False Negatives (Real predicted as Fake) ---\")\n",
    "    for article in false_negatives.sample(3, random_state=1):\n",
    "        print(f\"\\n{article[:500]}\\n{'-'*60}\")\n",
    "\n",
    "    print(\"\\n--- False Positives (Fake predicted as Real) ---\")\n",
    "    for article in false_positives.sample(3, random_state=1):\n",
    "        print(f\"\\n{article[:500]}\\n{'-'*60}\")\n",
    "\n",
    "# 5. FULL DIAGNOSTIC FUNCTION\n",
    "def run_full_diagnostics(news_input):\n",
    "    show_prediction_confidence(news_input)\n",
    "    print_top_features()\n",
    "    plot_confusion_matrix()\n",
    "    show_misclassified_examples()\n",
    "\n",
    "# Example usage:\n",
    "run_full_diagnostics(\"NASA confirms discovery of water on the sunlit surface of the Moon\")\n"
   ]
  },
  {
   "cell_type": "code",
   "execution_count": null,
   "metadata": {},
   "outputs": [],
   "source": []
  }
 ],
 "metadata": {
  "kaggle": {
   "accelerator": "none",
   "dataSources": [],
   "dockerImageVersionId": 30527,
   "isGpuEnabled": false,
   "isInternetEnabled": false,
   "language": "python",
   "sourceType": "notebook"
  },
  "kernelspec": {
   "display_name": "Python 3 (ipykernel)",
   "language": "python",
   "name": "python3"
  },
  "language_info": {
   "codemirror_mode": {
    "name": "ipython",
    "version": 3
   },
   "file_extension": ".py",
   "mimetype": "text/x-python",
   "name": "python",
   "nbconvert_exporter": "python",
   "pygments_lexer": "ipython3",
   "version": "3.12.7"
  }
 },
 "nbformat": 4,
 "nbformat_minor": 4
}
